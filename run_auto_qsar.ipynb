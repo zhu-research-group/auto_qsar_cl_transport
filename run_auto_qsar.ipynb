{
 "cells": [
  {
   "cell_type": "markdown",
   "id": "db1b44d8-e1d0-414c-84e6-45cd32abf5ce",
   "metadata": {},
   "source": [
    "# Run the auto_qsar pipeline\n",
    "\n",
    "The following notebook provides a simple guide on how to run the auto_qsar pipeline and generate predictions for external test sets. Users can also input the SMILES of a compound and get the predicted chloride transport activity. \n",
    "\n",
    "A more detailed guide to running the pipeline can also be found in our published book chapter: Ciallella, H. L.; Chung, E.; Russo, D. P.; Zhu, H. Automatic Quantitative Structure–Activity Relationship Modeling to Fill Data Gaps in High-Throughput Screening. In High-Throughput Screening Assays in Toxicology; Zhu, H., Xia, M., Eds.; Methods in Molecular Biology; Humana: New York, NY, 2022; Vol. 2474, pp 169–187. https://doi.org/10.1007/978-1-0716-2213-1_16. The guide below is taken directly from the book chapter."
   ]
  },
  {
   "cell_type": "markdown",
   "id": "acda16c6-b92c-45ae-80f9-5f6b90987de8",
   "metadata": {},
   "source": [
    "This script accepts eight flagged arguments, in no required order:\n",
    "\n",
    "1. The training set filename without .sdf ending (-ds). This input value must correspond to a file present in the project directory.\n",
    "2. The features with which to train the QSAR models (-f). The valid inputs for calculating binary chemical fingerprints are as follows: ECFP6 to calculate ECFPs, FCFP6 to calculate FCFPs, and MACCS to calculate MACCS keys. Use rdkit to calculate continuous RDKit chemical descriptors.\n",
    "3. The number of splits to use for cross-validation (-ns). This input value must be an integer between 1 and the number of chemicals in the training set file. However, commonly used values are 5 and 10.\n",
    "4. The project directory’s environment variable (-ev). The environment variable here is AUTO_QSAR_CL_TRANSPORT.\n",
    "5. The name of the sdf property containing the chemicals’ unique identifier (-nc).\n",
    "6. The name of the sdf property containing the endpoint for modeling (-ep).\n",
    "7. The fraction of the training set to be reserved as a test set (-ts). Use a value of 0 for this flagged argument to train, optimize, and cross-validate QSAR models with the complete training set instead of reserving a test set."
   ]
  },
  {
   "cell_type": "markdown",
   "id": "7d1a3b82-fa9e-436f-9884-954bb322001e",
   "metadata": {},
   "source": [
    "Example for building the QSAR models: \n",
    "- ```python build_models.py -ds ChlorideTransporters-TrainingSet-1 -f rdkit -ns 5 -ev AUTO_QSAR_CL_TRANSPORT -nc NSC# -ep Activity```"
   ]
  },
  {
   "cell_type": "markdown",
   "id": "87f2a074-23e7-485c-ae32-09e976891a82",
   "metadata": {},
   "source": [
    "Example for getting predictions from the QSAR models:\n",
    "- ```python make_predictions.py -ds ChlorideTransporters-TrainingSet-1 -f rdkit -ev AUTO_QSAR_CL_TRANSPORT -nc NSC# -ep Activity -ps drugbankdb -a rf```"
   ]
  },
  {
   "cell_type": "markdown",
   "id": "13d9a5a5-3a25-40d8-a315-bbbbed98008e",
   "metadata": {},
   "source": [
    "<span style='color: black; background-color: yellow;'><b>Note</b>:\n",
    "To reproduce the results from the paper, users can run all the cells below by going to the menu above and selecting Run --> Run All Cells. This process may take an hour or longer. If users only want to predict the activity of one compound, then run the cell below, cell 1 (Build models), and cell 5 by pressing Shift + Enter for each of these three cells. Users can then input the SMILES of the desired compound into the box to get the predicted chloride transport activity.</span>"
   ]
  },
  {
   "cell_type": "code",
   "execution_count": null,
   "id": "62e9f2f2-d430-490f-b5e6-4062ba39bad2",
   "metadata": {},
   "outputs": [],
   "source": [
    "import warnings\n",
    "warnings.filterwarnings('ignore')\n",
    "import os\n",
    "import numpy as np\n",
    "import pandas as pd\n",
    "from joblib import load\n",
    "from rdkit import Chem\n",
    "from rdkit.Chem import AllChem, Descriptors, MACCSkeys\n",
    "from rdkit.ML.Descriptors import MoleculeDescriptors\n",
    "from molecules_and_features import calc_rdkit, calc_maccs\n",
    "from ipywidgets import interact, widgets\n",
    "from IPython.display import display, HTML\n",
    "from consensus_metrics import calc_metrics"
   ]
  },
  {
   "cell_type": "markdown",
   "id": "b9300905-5534-4a3b-bcea-f1d6fc9a1390",
   "metadata": {},
   "source": [
    "## 1. Build models using the auto_qsar pipeline"
   ]
  },
  {
   "cell_type": "code",
   "execution_count": null,
   "id": "f4bb575b-cb00-4b9e-a7d3-e0603acb4479",
   "metadata": {
    "scrolled": true
   },
   "outputs": [],
   "source": [
    "# List of the 19 training sets\n",
    "files = [f'ChlorideTransporters-TrainingSet-{x}' for x in range(1, 20)]\n",
    "features = ['MACCS', 'rdkit']\n",
    "name_col = 'NSC#'\n",
    "\n",
    "# Build models for the 19 training sets with the MACCS and rdkit descriptors\n",
    "for file in files:\n",
    "    for f in features:\n",
    "        ! python build_models.py -ds {file} -f {f} -ns 5 -ev AUTO_QSAR_CL_TRANSPORT -nc {name_col} -ep Activity"
   ]
  },
  {
   "cell_type": "code",
   "execution_count": null,
   "id": "9180400e-e1e4-432b-8fc2-45eac5085b14",
   "metadata": {},
   "outputs": [],
   "source": []
  },
  {
   "cell_type": "markdown",
   "id": "fe3195c2-3f3d-48dc-a4ea-4bfe3eea1f3c",
   "metadata": {},
   "source": [
    "## 2. Compile the five-fold cross-validation performance results for all the models into one DataFrame and save to a CSV file"
   ]
  },
  {
   "cell_type": "code",
   "execution_count": null,
   "id": "dad52141-cf0e-4b74-aba1-e09d66c39f64",
   "metadata": {},
   "outputs": [],
   "source": [
    "# Configuration of variables\n",
    "filename = 'ChlorideTransporters-TrainingSet'\n",
    "algorithms = ['dnn', 'rf', 'svm', 'xgb']\n",
    "endpoint = 'Activity'\n",
    "name_col = 'NSC#'\n",
    "feature = 'rdkit'\n",
    "num_sets = 19\n",
    "\n",
    "# Initialize results containers\n",
    "stats = pd.DataFrame()\n",
    "ccr = pd.DataFrame(index=[f'Set{x}' for x in range(1, num_sets + 1)],\n",
    "                   columns=[alg.upper()  for alg in algorithms] + ['Consensus'])\n",
    "\n",
    "# Loop through all the training sets\n",
    "for i in range(1, num_sets + 1):\n",
    "    preds = pd.DataFrame()\n",
    "    set_name = f'Set{i}'\n",
    "\n",
    "    for alg in algorithms:\n",
    "        alg_upper = alg.upper()\n",
    "\n",
    "        # Read model metrics and predictions\n",
    "        result_file = f\"results/{alg}_{filename}-{i}_{feature}_{endpoint}_None_5fcv_results.csv\"\n",
    "        pred_file = f\"predictions/{alg}_{filename}-{i}_{feature}_{endpoint}_None_5fcv_predictions.csv\"\n",
    "        result_data = pd.read_csv(result_file, header=None, index_col=0)\n",
    "        pred_data = pd.read_csv(pred_file, index_col=0)['Probability']\n",
    "\n",
    "        # Store CCR and metrics\n",
    "        ccr.at[set_name, alg_upper] = result_data.at['CCR', 1]\n",
    "        stats[f'{set_name} - {alg_upper}'] = result_data[1]\n",
    "        preds[f'Probability - {alg_upper}'] = pred_data\n",
    "\n",
    "    # Calculate and store consensus predictions\n",
    "    preds['Consensus'] = preds.mean(axis=1)\n",
    "    consensus_metrics = calc_metrics(preds['Consensus'], f'{filename}-{i}.sdf', endpoint=endpoint, name_col=name_col)\n",
    "\n",
    "    stats[f'{set_name} - Consensus'] = consensus_metrics[0]\n",
    "    ccr.at[set_name, 'Consensus'] = consensus_metrics.at['CCR', 0]\n",
    "\n",
    "# Format final metrics table\n",
    "total_stats = stats.T\n",
    "total_stats['Algorithm'] = list(total_stats.index.str.extract(r' - (\\w+)$')[0])\n",
    "total_stats['Set'] = list(total_stats.index.str.extract(r'^(Set\\d+)')[0])\n",
    "\n",
    "# Save outputs to CSV files\n",
    "total_stats.to_csv(f'ChlorideTransporters-MultipleTrainingSets-5fcv_metrics_{feature}.csv')\n",
    "ccr.to_csv(f'ChlorideTransporters-MultipleTrainingSets-5fcv_CCR_{feature}.csv')"
   ]
  },
  {
   "cell_type": "code",
   "execution_count": null,
   "id": "45ed6ac4-76b1-408a-929d-be9a1111d118",
   "metadata": {},
   "outputs": [],
   "source": [
    "# This dataframe can be found as a CSV file in the auto_qsar_cl_transport folder as shown in the code above\n",
    "total_stats"
   ]
  },
  {
   "cell_type": "code",
   "execution_count": null,
   "id": "e9fc10d0-7b6f-40d0-9a7c-15107d0e3de9",
   "metadata": {},
   "outputs": [],
   "source": []
  },
  {
   "cell_type": "markdown",
   "id": "bdb3d612-29cd-48b5-bd99-b1df054bd641",
   "metadata": {},
   "source": [
    "## 3. Validate models using the validation set and predict chloride transporters from DrugBank"
   ]
  },
  {
   "cell_type": "code",
   "execution_count": null,
   "id": "09fb68ee-8c2d-42eb-9bfd-16247f6c1097",
   "metadata": {
    "scrolled": true
   },
   "outputs": [],
   "source": [
    "# Configuration of variables\n",
    "training_sets = [f'ChlorideTransporters-TrainingSet-{x}' for x in range(1, 20)]\n",
    "test = 'ExternalTest-noactivity'\n",
    "# test = 'drugbankdb'\n",
    "algorithms = ['dnn', 'rf', 'svm', 'xgb']\n",
    "name_col = 'NSC#'\n",
    "\n",
    "# Predict chloride transporters for the test sets\n",
    "for train in training_sets:\n",
    "    for alg in algorithms:\n",
    "        ! python make_predictions.py -ds {train} -f rdkit -ev AUTO_QSAR_CL_TRANSPORT -nc {name_col} -ep Activity -ps {test} -a {alg}"
   ]
  },
  {
   "cell_type": "markdown",
   "id": "d54e344c-e921-4769-b37b-630bf682472a",
   "metadata": {},
   "source": [
    "<span style='color: black; background-color: yellow;'><b>Note</b>: Running the cell above will provide predictions for the external validation set mentioned in the paper. If users want to get individual model predictions for the DrugBank dataset, replace ```test = 'ExternalTest-noactivity'``` with ```test = 'drugbankdb'``` in the above cell. Generating predictions for the DrugBank dataset when running the cell may take up to a few hours.</span>"
   ]
  },
  {
   "cell_type": "markdown",
   "id": "a8ec052c-b231-4969-a6ff-b10c00fac502",
   "metadata": {},
   "source": [
    "## 4. Compile external test set model performance metrics into one DataFrame and save to a CSV file"
   ]
  },
  {
   "cell_type": "code",
   "execution_count": null,
   "id": "7c4f5663-e4e8-44a1-9f00-b38dbe3abac0",
   "metadata": {},
   "outputs": [],
   "source": [
    "# Configuration of variables\n",
    "testname = 'ExternalTest-noactivity'\n",
    "expname = 'ExternalTest'\n",
    "filename = 'ChlorideTransporters-TrainingSet'\n",
    "feature = 'rdkit'\n",
    "endpoint = 'Activity'\n",
    "name_col = 'NSC#'\n",
    "algorithms = ['dnn', 'rf', 'svm', 'xgb']\n",
    "\n",
    "# Load experimental data\n",
    "exp = pd.read_csv(f'{expname}.csv', index_col=name_col)\n",
    "\n",
    "# Initialize containers\n",
    "all_metrics = []\n",
    "all_preds = pd.DataFrame()\n",
    "\n",
    "# Iterate over the training sets\n",
    "for i in range(1, 20):\n",
    "    set_name = f'Set{i}'\n",
    "    preds = pd.DataFrame()\n",
    "\n",
    "    for alg in algorithms:\n",
    "        alg_upper = alg.upper()\n",
    "        pred_path = f'predictions/{alg}_{testname}_{filename}-{i}_{feature}_{endpoint}_None_no_gaps.csv'\n",
    "        pred_series = pd.read_csv(pred_path, index_col=0)['Activities']\n",
    "        col_name = f'Probability - {set_name} - {alg_upper}'\n",
    "        \n",
    "        # Store individual predictions\n",
    "        preds[col_name] = pred_series\n",
    "        all_preds[col_name] = pred_series\n",
    "\n",
    "        # Compute and store metrics\n",
    "        metrics = calc_metrics(pred_series, f'{expname}.sdf', endpoint=endpoint, name_col=name_col)\n",
    "        metrics.at['Set', 0] = set_name\n",
    "        metrics.at['Model', 0] = alg_upper\n",
    "        metrics.columns = [f'{set_name} - {alg_upper}']\n",
    "        all_metrics.append(metrics)\n",
    "\n",
    "    # Consensus for this set\n",
    "    preds['Consensus'] = preds.mean(axis=1)\n",
    "    consensus_metrics = calc_metrics(preds['Consensus'], f'{expname}.sdf', endpoint=endpoint, name_col=name_col)\n",
    "    consensus_metrics.at['Set', 0] = set_name\n",
    "    consensus_metrics.at['Model', 0] = 'Consensus'\n",
    "    consensus_metrics.columns = [f'{set_name} - Consensus']\n",
    "    all_metrics.append(consensus_metrics)\n",
    "\n",
    "# Overall Consensus\n",
    "all_preds['Overall Consensus'] = all_preds.mean(axis=1)\n",
    "overall_metrics = calc_metrics(all_preds['Overall Consensus'], f'{expname}.sdf', endpoint=endpoint, name_col=name_col)\n",
    "overall_metrics.at['Set', 0] = 'Overall'\n",
    "overall_metrics.at['Model', 0] = 'Consensus'\n",
    "overall_metrics.columns = ['Overall Consensus']\n",
    "all_metrics.append(overall_metrics)\n",
    "\n",
    "# Combine all metrics\n",
    "ext_metrics = pd.concat(all_metrics, axis=1).T\n",
    "\n",
    "# Save results to a CSV file\n",
    "print(f\"Compiled metrics for {len(ext_metrics)} models.\")\n",
    "ext_metrics.reset_index(drop=True, inplace=True)\n",
    "ext_metrics.to_csv(f'ExternalTest-AllMetrics-{feature}.csv', index=False)"
   ]
  },
  {
   "cell_type": "code",
   "execution_count": null,
   "id": "68800254-284b-4abc-a625-b3bd6c71d41b",
   "metadata": {},
   "outputs": [],
   "source": [
    "ext_metrics"
   ]
  },
  {
   "cell_type": "code",
   "execution_count": null,
   "id": "efe09119-f749-43d9-a62b-285e1592d8b0",
   "metadata": {},
   "outputs": [],
   "source": []
  },
  {
   "cell_type": "markdown",
   "id": "9b6edba6-9929-4583-a765-cb28cd43c219",
   "metadata": {},
   "source": [
    "## 5. Run the cell below then input a SMILES string into the box to get the predicted chloride transport activity"
   ]
  },
  {
   "cell_type": "code",
   "execution_count": null,
   "id": "29cc9693-5d82-4bc1-b817-6a19b07554de",
   "metadata": {},
   "outputs": [],
   "source": [
    "model_dir = 'models/'\n",
    "algorithms = ['dnn', 'rf', 'svm', 'xgb']\n",
    "feature = 'rdkit'\n",
    "\n",
    "# Load the 76 models\n",
    "model_files = [f for f in os.listdir(model_dir) if (f.endswith('.pkl') and feature in f)]\n",
    "model_files = [file for file in model_files if any(alg in file for alg in algorithms)]\n",
    "\n",
    "# Load all models into a list\n",
    "models = []\n",
    "for file in model_files:\n",
    "    with open(os.path.join(model_dir, file), 'rb') as f:\n",
    "        models.append(load(f))\n",
    "\n",
    "print(f\"Loaded {len(models)} models.\")\n",
    "\n",
    "# ---------------------------\n",
    "# Feature generation function\n",
    "# (adjust the variable feature above to either MACCS or rdkit)\n",
    "# ---------------------------\n",
    "\n",
    "def smiles_to_features(smiles, feature):\n",
    "    mol = Chem.MolFromSmiles(smiles)\n",
    "    if mol is None:\n",
    "        return None\n",
    "    if feature == 'rdkit':\n",
    "        calculator = MoleculeDescriptors.MolecularDescriptorCalculator([desc[0] for desc in Descriptors.descList])\n",
    "        descriptors = calculator.CalcDescriptors(mol)\n",
    "    else:\n",
    "        descriptors = [float(x) for x in MACCSkeys.GenMACCSKeys(mol)]\n",
    "    return np.array(descriptors).reshape(1, -1)\n",
    "\n",
    "# ---------------------------\n",
    "# Prediction function\n",
    "# ---------------------------\n",
    "\n",
    "def predict_consensus(smiles):\n",
    "    features = smiles_to_features(smiles, feature)\n",
    "    if features is None:\n",
    "        return \"Invalid SMILES\"\n",
    "\n",
    "    preds = []\n",
    "    for model in models:\n",
    "        try:\n",
    "            preds.append(model.predict_proba(features)[0][1])  # probability of being active\n",
    "        except Exception as e:\n",
    "            return f\"Error with model prediction: {e}\"\n",
    "\n",
    "    consensus_score = np.mean(preds)\n",
    "    label = \"Active\" if consensus_score >= 0.5 else \"Inactive\"\n",
    "    return f\"Predicted activity: <b>{label}</b> (Consensus score: {consensus_score:.3f})\"\n",
    "\n",
    "# ---------------------------\n",
    "# Interactive interface\n",
    "# ---------------------------\n",
    "\n",
    "smiles_input = widgets.Text(\n",
    "    value='CC(CC(C#N)(C1=CC=CC=C1)C2=CC=CC=C2)N3CCCCC3',\n",
    "    placeholder='Enter SMILES string',\n",
    "    description='SMILES:',\n",
    "    style={'description_width': 'initial'},\n",
    "    layout=widgets.Layout(width='100%')\n",
    ")\n",
    "\n",
    "output = widgets.Output()\n",
    "\n",
    "def on_submit(change):\n",
    "    with output:\n",
    "        output.clear_output()\n",
    "        result = predict_consensus(smiles_input.value)\n",
    "        display(HTML(f\"<p style='font-size:16px'>{result}</p>\"))\n",
    "\n",
    "smiles_input.observe(on_submit, names='value')\n",
    "\n",
    "display(HTML(\"<h3>Chloride Transport Prediction from the RDKit Consensus Model</h3>\"))\n",
    "display(smiles_input, output)\n"
   ]
  },
  {
   "cell_type": "code",
   "execution_count": null,
   "id": "850ddc0f-53de-457f-8740-bc9331b8797b",
   "metadata": {},
   "outputs": [],
   "source": []
  }
 ],
 "metadata": {
  "kernelspec": {
   "display_name": "Python 3 (ipykernel)",
   "language": "python",
   "name": "python3"
  },
  "language_info": {
   "codemirror_mode": {
    "name": "ipython",
    "version": 3
   },
   "file_extension": ".py",
   "mimetype": "text/x-python",
   "name": "python",
   "nbconvert_exporter": "python",
   "pygments_lexer": "ipython3",
   "version": "3.11.13"
  }
 },
 "nbformat": 4,
 "nbformat_minor": 5
}
